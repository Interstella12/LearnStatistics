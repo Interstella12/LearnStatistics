{
 "cells": [
  {
   "cell_type": "markdown",
   "metadata": {},
   "source": [
    "# 总结\n",
    "<font color=#0099ff>\n",
    "&ensp;&ensp;&ensp;&ensp;通常把需要观测事务的结果，即事件转化为数量值，即变成了随机变量，然后对随机变量进行研究．\n",
    "<br>&ensp;&ensp;&ensp;&ensp;根据随机变量的取值是否有限，分为离散随机变量和连续随机变量．离散随机变量有分布函数，而连续随机变量只有分布密度函数和累积分布函数．\n",
    "<br>&ensp;&ensp;&ensp;&ensp;常见的离散随机分布有二项分布和伯努利分布，在某些情况下，二项分布可以用伯努利分布近似．常见的连续随机变量分布是正态分布，非标准的正态分布可以通过变换转化为标准正态分布图后分析．\n",
    "</font>\n"
   ]
  },
  {
   "cell_type": "markdown",
   "metadata": {},
   "source": [
    "# 思考题的个人解答\n",
    "\n",
    "1.频率与概率有什么关系？\n",
    "\n",
    "<font color=#0099ff>\n",
    "&ensp;&ensp;&ensp;&ensp;频率是事件发生的频繁程度，概率是事件发生可能程度，在某些情况下，可以通过频率计算概率．\n",
    "</font>\n",
    "\n"
   ]
  },
  {
   "cell_type": "markdown",
   "metadata": {},
   "source": [
    "# 练习题"
   ]
  },
  {
   "cell_type": "code",
   "execution_count": 1,
   "metadata": {
    "ExecuteTime": {
     "end_time": "2019-10-31T07:56:29.381612Z",
     "start_time": "2019-10-31T07:56:28.797348Z"
    },
    "code_folding": [
     0
    ]
   },
   "outputs": [],
   "source": [
    "#\n",
    "import pandas as pd\n",
    "import numpy as np\n",
    "import scipy.stats as st\n",
    "import matplotlib\n",
    "import matplotlib.pyplot as plt\n",
    "\n",
    "import seaborn as sns\n",
    "sns.set(palette=\"tab10\")\n",
    "sns.set_style('darkgrid')\n",
    "sns.set_context('talk')\n",
    "\n",
    "# 中文支持\n",
    "font_name = 'SIMHEI'\n",
    "matplotlib.rcParams['font.family'] = font_name  # 用来正常显示中文标签\n",
    "matplotlib.rcParams['axes.unicode_minus'] = False  # 用来正常显示负号\n"
   ]
  },
  {
   "cell_type": "markdown",
   "metadata": {},
   "source": [
    "## 5.1\n",
    "写出下列随机试验的样本空间"
   ]
  },
  {
   "cell_type": "markdown",
   "metadata": {},
   "source": [
    "### （１）记录某班一次统计学测验的平均分数\n",
    "\n",
    "<font color=#0099ff>\n",
    "&ensp;&ensp;&ensp;&ensp;0~100间的有理数\n",
    "</font>\n"
   ]
  },
  {
   "cell_type": "markdown",
   "metadata": {},
   "source": [
    "### （２）某人在公路上骑自行车，观察该汽车人在遇到第一个红灯停下来以前遇到的绿灯的次数\n",
    "\n",
    "<font color=#0099ff>\n",
    "&ensp;&ensp;&ensp;&ensp;全体自然数\n",
    "</font>\n"
   ]
  },
  {
   "cell_type": "markdown",
   "metadata": {},
   "source": [
    "### （３）生产产品直到有10件正品为止，记录生产产品的总件数\n",
    "\n",
    "<font color=#0099ff>\n",
    "&ensp;&ensp;&ensp;&ensp;全体正整数\n",
    "</font>\n"
   ]
  },
  {
   "cell_type": "markdown",
   "metadata": {},
   "source": [
    "## 5.2\n",
    "某人花2元钱买彩票，他抽中100元奖的概率是0.1%，　抽中10元奖的概率是1%，抽中1元奖的概率是20%，假设各种奖不能同时抽中，试求:"
   ]
  },
  {
   "cell_type": "markdown",
   "metadata": {},
   "source": [
    "### （１）此人的收益的概率分布"
   ]
  },
  {
   "cell_type": "code",
   "execution_count": 6,
   "metadata": {
    "ExecuteTime": {
     "end_time": "2019-10-31T08:07:46.965597Z",
     "start_time": "2019-10-31T08:07:46.948414Z"
    }
   },
   "outputs": [
    {
     "data": {
      "text/html": [
       "<div>\n",
       "<style scoped>\n",
       "    .dataframe tbody tr th:only-of-type {\n",
       "        vertical-align: middle;\n",
       "    }\n",
       "\n",
       "    .dataframe tbody tr th {\n",
       "        vertical-align: top;\n",
       "    }\n",
       "\n",
       "    .dataframe thead th {\n",
       "        text-align: right;\n",
       "    }\n",
       "</style>\n",
       "<table border=\"1\" class=\"dataframe\">\n",
       "  <thead>\n",
       "    <tr style=\"text-align: right;\">\n",
       "      <th></th>\n",
       "      <th>0元</th>\n",
       "      <th>1元</th>\n",
       "      <th>10元</th>\n",
       "      <th>100元</th>\n",
       "    </tr>\n",
       "  </thead>\n",
       "  <tbody>\n",
       "    <tr>\n",
       "      <th>概率</th>\n",
       "      <td>78.9%</td>\n",
       "      <td>20%</td>\n",
       "      <td>1%</td>\n",
       "      <td>0.1%</td>\n",
       "    </tr>\n",
       "  </tbody>\n",
       "</table>\n",
       "</div>"
      ],
      "text/plain": [
       "       0元   1元 10元  100元\n",
       "概率  78.9%  20%  1%  0.1%"
      ]
     },
     "execution_count": 6,
     "metadata": {},
     "output_type": "execute_result"
    }
   ],
   "source": [
    "# \n",
    "data = pd.DataFrame({'0元': ['78.9%'], '1元': ['20%'] , '10元': ['1%'], '100元': ['0.1%']})\n",
    "data.index = ['概率']\n",
    "data"
   ]
  },
  {
   "cell_type": "markdown",
   "metadata": {},
   "source": [
    "### （２）此人收益的期望值"
   ]
  },
  {
   "cell_type": "code",
   "execution_count": 7,
   "metadata": {
    "ExecuteTime": {
     "end_time": "2019-10-31T08:09:24.832648Z",
     "start_time": "2019-10-31T08:09:24.826692Z"
    }
   },
   "outputs": [
    {
     "name": "stdout",
     "output_type": "stream",
     "text": [
      "收益期望值： 0.4\n"
     ]
    }
   ],
   "source": [
    "# \n",
    "expect = 0*0.789 + 1*0.2 + 10*0.01 + 100*0.001\n",
    "print('收益期望值：', expect)"
   ]
  },
  {
   "cell_type": "markdown",
   "metadata": {
    "ExecuteTime": {
     "end_time": "2019-10-29T07:31:44.373316Z",
     "start_time": "2019-10-29T07:31:44.367437Z"
    }
   },
   "source": [
    "## 4.3\n",
    "设随机变量X的概率密度为:\n",
    "$$ f(x)=\\frac{3x^2}{\\theta^3}, 0<x<\\theta$$\n"
   ]
  },
  {
   "cell_type": "markdown",
   "metadata": {},
   "source": [
    "### （１）已知$ P(x>1)=\\frac{7}{8}$，求$\\theta$\n",
    "<br>\n",
    "<font color=#0099ff>\n",
    "&ensp;&ensp;&ensp;&ensp;由f(x)可知$$\\Phi(x)=\\int_{-\\infty}^{x}\\frac{3x^2}{\\theta^3}dx=\\frac{x^3}{\\theta^3}$$\n",
    "<br>\n",
    " 则由$$P(X>1)=\\frac{7}{8}=1-\\Phi(1)$$\n",
    "   <br>得到\n",
    "    $$\\frac{1^3}{\\theta^3}=\\frac{1}{8}$$\n",
    "    <br>于是$$\\theta=2$$\n",
    "</font>\n"
   ]
  },
  {
   "cell_type": "markdown",
   "metadata": {
    "ExecuteTime": {
     "end_time": "2019-10-30T08:28:50.653341Z",
     "start_time": "2019-10-30T08:28:50.639093Z"
    }
   },
   "source": [
    "### （２）求X的期望值和方差\n",
    "<br>\n",
    "<font color=#0099ff>\n",
    "由f(x)可知\n",
    "    $$ E(X)=\\int_{0}^{2}\\frac{3x^2}{8}xdx=\\frac{3x^4}{8*4}|_0^8 = 1.5$$\n",
    "    $$ D(X) = E(X^2) - [E(X)]^2=\\int_{0}^{2}\\frac{3x^2}{8}x^2dx-1.5^2=\\frac{3x^5}{8*5}|_0^2-1.5^2=0.15$$\n",
    "</font>\n"
   ]
  },
  {
   "cell_type": "markdown",
   "metadata": {},
   "source": [
    "## 5.4\n",
    "一张考卷上有5道题，同时每道题目列出4个备选答案，其中有一个答案是正确的．某学生凭猜测能答对至少四道题的概率是多少？\n",
    "<br>\n",
    "<font color=#0099ff>\n",
    "由f(x)可知\n",
    "    $$ E(X)=\\int_{0}^{2}\\frac{3x^2}{8}xdx=\\frac{3x^4}{8*4}|_0^8 = 1.5$$\n",
    "    $$ P(至少答对四道题) = P(4) + P(5) = C_{5}^{4}0.25^{4}0.75^{1}+C_{5}^{5}0.25^{5}0.75^{0}=0.015625$$\n",
    "</font>\n"
   ]
  },
  {
   "cell_type": "markdown",
   "metadata": {},
   "source": [
    "## 5.5\n",
    "设随机变量X服从参数为$\\lambda$的泊松分布，已知P{X=1}=P{x=2},求P{X=4}\n",
    "<br>\n",
    "<font color=#0099ff>\n",
    "由泊松分布公式$$P(X)=\\frac{\\lambda^{x}e^{-\\lambda}}{x!}$$  可知  $$\\lambda e^{-\\lambda}=\\frac{\\lambda^{2}e^{-\\lambda}}{2}$$于是得到$\\lambda=2$，代入P(X)有$$P(4)=\\frac{2}{3e^2}$$\n",
    "</font>"
   ]
  },
  {
   "cell_type": "markdown",
   "metadata": {},
   "source": [
    "## 5.6 \n",
    "设X~N(3, 4),试求\n"
   ]
  },
  {
   "cell_type": "markdown",
   "metadata": {
    "ExecuteTime": {
     "end_time": "2019-10-29T09:26:20.416881Z",
     "start_time": "2019-10-29T09:26:20.153525Z"
    }
   },
   "source": [
    "### （１）P{|x|>2}\n",
    "<font color=#0099ff>\n",
    "&ensp;&ensp;&ensp;&ensp;$$P\\{|X|>2\\}=P\\{X<-2\\}+P\\{X>2\\}=P\\{X<-2\\}+1-P\\{X<=2\\}$$\n",
    "    由题设可以知道$\\mu=3, \\sigma=2$，对提问进行转化$$P\\{|X|>2\\}=\\Phi(\\frac{-2-3}{2})-\\Phi(\\frac{2-3}{2})=1+\\Phi(-2.5)-\\Phi(-0.5)=0.69767$$\n",
    "</font>\n"
   ]
  },
  {
   "cell_type": "markdown",
   "metadata": {
    "ExecuteTime": {
     "end_time": "2019-10-29T09:26:20.416881Z",
     "start_time": "2019-10-29T09:26:20.153525Z"
    }
   },
   "source": [
    "### （２）P{X>3}\n",
    "<font color=#0099ff>\n",
    "&ensp;&ensp;&ensp;&ensp;由题设可以知道，该分布关于X=2对称，因此P{X>3}=0.5\n",
    "</font>\n"
   ]
  },
  {
   "cell_type": "markdown",
   "metadata": {},
   "source": [
    "## 5.7 \n",
    "一工厂生产的电子管寿命X(以小时计算)服从期望值$\\mu=160$的正态分布图，若要求$P\\{120<X<200\\}\\ge0.08$，允许的标准差最大为多少\n",
    "<font color=#0099ff>\n",
    "&ensp;&ensp;&ensp;&ensp;$$P\\{120<X<200\\} = P\\{X<200\\}-P\\{X<120\\}$$\n",
    "    变换为标准正态分布进行计算，等价于$$P\\{120<X<200\\}=\\Phi(\\frac{200-160}{\\sigma})-\\Phi(\\frac{120-160}{\\sigma})=\\Phi(\\frac{40}{\\sigma})-\\Phi(\\frac{-40}{\\sigma})=2\\Phi(\\frac{40}{\\sigma})-1$$\n",
    "即有$$\\Phi(\\frac{40}{\\sigma})\\ge1.08/2=0.54$$\n",
    "根据计算$$\\frac{40}{\\sigma}\\ge0.10043$$\n",
    "得到$$\\sigma\\le40/0.10043=398.27$$\n",
    "</font>\n",
    "\n"
   ]
  },
  {
   "cell_type": "code",
   "execution_count": 20,
   "metadata": {
    "ExecuteTime": {
     "end_time": "2019-10-31T10:05:58.422960Z",
     "start_time": "2019-10-31T10:05:58.416093Z"
    }
   },
   "outputs": [
    {
     "data": {
      "text/plain": [
       "0.10043372051146988"
      ]
     },
     "execution_count": 20,
     "metadata": {},
     "output_type": "execute_result"
    }
   ],
   "source": [
    "st.norm.ppf(0.54) # 计算分位点函数（CDF的逆函数）"
   ]
  },
  {
   "cell_type": "markdown",
   "metadata": {},
   "source": [
    "## 5.8 \n",
    "一本书排版后一校时出现错误处数X服从正态分布N(200,400)，试求\n",
    "\n"
   ]
  },
  {
   "cell_type": "markdown",
   "metadata": {
    "ExecuteTime": {
     "end_time": "2019-10-31T10:05:58.422960Z",
     "start_time": "2019-10-31T10:05:58.416093Z"
    }
   },
   "source": [
    "### （１）出现错误处数不超过230的概率\n",
    "<font color=#0099ff>\n",
    "由题设可以知道$\\mu=200, \\sigma=20$，\n",
    "&ensp;&ensp;&ensp;&ensp;$$P\\{X<230\\} = \\Phi(\\frac{230-200}{20})=\\Phi(1.5)=0.93319$$\n",
    "</font>\n"
   ]
  },
  {
   "cell_type": "code",
   "execution_count": 21,
   "metadata": {
    "ExecuteTime": {
     "end_time": "2019-10-31T10:12:14.837905Z",
     "start_time": "2019-10-31T10:12:14.831207Z"
    }
   },
   "outputs": [
    {
     "data": {
      "text/plain": [
       "0.9331927987311419"
      ]
     },
     "execution_count": 21,
     "metadata": {},
     "output_type": "execute_result"
    }
   ],
   "source": [
    "st.norm.cdf(1.5) # 计算累积分布"
   ]
  },
  {
   "cell_type": "markdown",
   "metadata": {
    "ExecuteTime": {
     "end_time": "2019-10-31T10:05:58.422960Z",
     "start_time": "2019-10-31T10:05:58.416093Z"
    }
   },
   "source": [
    "### （２）出现错误处数在190~210之间的概率\n",
    "<font color=#0099ff>\n",
    "由题设可以知道$\\mu=200, \\sigma=20$，\n",
    "<br>\n",
    "$$P\\{190<X<210\\}=P\\{X<210\\}-P\\{X<190\\}=\\Phi(\\frac{210-200}{20})-\\Phi(\\frac{190-200}{20})$$\n",
    "$$P\\{190<X<210\\}=\\Phi(0.5)-\\Phi(-0.5)=0.3829$$\n",
    "</font>\n"
   ]
  },
  {
   "cell_type": "code",
   "execution_count": 22,
   "metadata": {
    "ExecuteTime": {
     "end_time": "2019-10-31T10:16:02.671466Z",
     "start_time": "2019-10-31T10:16:02.664021Z"
    }
   },
   "outputs": [
    {
     "data": {
      "text/plain": [
       "0.38292492254802624"
      ]
     },
     "execution_count": 22,
     "metadata": {},
     "output_type": "execute_result"
    }
   ],
   "source": [
    "st.norm.cdf(0.5)-st.norm.cdf(-0.5)# 计算累积分布"
   ]
  },
  {
   "cell_type": "code",
   "execution_count": null,
   "metadata": {},
   "outputs": [],
   "source": []
  },
  {
   "cell_type": "code",
   "execution_count": null,
   "metadata": {},
   "outputs": [],
   "source": []
  },
  {
   "cell_type": "code",
   "execution_count": null,
   "metadata": {},
   "outputs": [],
   "source": []
  }
 ],
 "metadata": {
  "kernelspec": {
   "display_name": "Python 3",
   "language": "python",
   "name": "python3"
  },
  "language_info": {
   "codemirror_mode": {
    "name": "ipython",
    "version": 3
   },
   "file_extension": ".py",
   "mimetype": "text/x-python",
   "name": "python",
   "nbconvert_exporter": "python",
   "pygments_lexer": "ipython3",
   "version": "3.6.5"
  },
  "toc": {
   "base_numbering": 1,
   "nav_menu": {
    "height": "43px",
    "width": "160px"
   },
   "number_sections": true,
   "sideBar": true,
   "skip_h1_title": false,
   "title_cell": "Table of Contents",
   "title_sidebar": "Contents",
   "toc_cell": false,
   "toc_position": {},
   "toc_section_display": true,
   "toc_window_display": true
  }
 },
 "nbformat": 4,
 "nbformat_minor": 2
}
